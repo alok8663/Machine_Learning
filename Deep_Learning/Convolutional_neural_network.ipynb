{
  "nbformat": 4,
  "nbformat_minor": 0,
  "metadata": {
    "colab": {
      "provenance": []
    },
    "kernelspec": {
      "name": "python3",
      "display_name": "Python 3"
    }
  },
  "cells": [
    {
      "cell_type": "markdown",
      "source": [
        "[![Open In Colab](https://colab.research.google.com/assets/colab-badge.svg)](https://colab.research.google.com/github/alok8663/Machine_Learning/blob/main/Deep_Learning/Convolutional_neural_network.ipynb)"
      ],
      "metadata": {
        "id": "aDwu2pBai9lh"
      }
    },
    {
      "cell_type": "markdown",
      "metadata": {
        "id": "3DR-eO17geWu"
      },
      "source": [
        "# Convolutional Neural Network"
      ]
    },
    {
      "cell_type": "markdown",
      "metadata": {
        "id": "EMefrVPCg-60"
      },
      "source": [
        "### Importing the libraries"
      ]
    },
    {
      "cell_type": "code",
      "source": [
        "import tensorflow as tf\n",
        "from keras.preprocessing.image import ImageDataGenerator"
      ],
      "metadata": {
        "id": "nAvMt6K3KqHV"
      },
      "execution_count": 2,
      "outputs": []
    },
    {
      "cell_type": "code",
      "source": [
        "tf.__version__"
      ],
      "metadata": {
        "colab": {
          "base_uri": "https://localhost:8080/",
          "height": 35
        },
        "id": "FwBKehulK5vt",
        "outputId": "b7e765c0-5147-4763-c04f-10c43c3a3e8e"
      },
      "execution_count": 3,
      "outputs": [
        {
          "output_type": "execute_result",
          "data": {
            "text/plain": [
              "'2.15.0'"
            ],
            "application/vnd.google.colaboratory.intrinsic+json": {
              "type": "string"
            }
          },
          "metadata": {},
          "execution_count": 3
        }
      ]
    },
    {
      "cell_type": "code",
      "source": [
        "#Connect Google Drive\n",
        "from google.colab import drive\n",
        "drive.mount('/content/drive')"
      ],
      "metadata": {
        "id": "YYXEL4fclji8",
        "colab": {
          "base_uri": "https://localhost:8080/"
        },
        "outputId": "cd17ae60-109c-490c-b557-72d788408a0e"
      },
      "execution_count": 4,
      "outputs": [
        {
          "output_type": "stream",
          "name": "stdout",
          "text": [
            "Mounted at /content/drive\n"
          ]
        }
      ]
    },
    {
      "cell_type": "markdown",
      "metadata": {
        "id": "oxQxCBWyoGPE"
      },
      "source": [
        "## Part 1 - Data Preprocessing"
      ]
    },
    {
      "cell_type": "markdown",
      "metadata": {
        "id": "MvE-heJNo3GG"
      },
      "source": [
        "### Preprocessing the Training set"
      ]
    },
    {
      "cell_type": "code",
      "source": [
        "train_datagen=ImageDataGenerator(\n",
        "    rescale=1./255,\n",
        "    shear_range=0.2,\n",
        "    zoom_range=0.2,\n",
        "    horizontal_flip=True)\n",
        "training_set=train_datagen.flow_from_directory(\n",
        "    '/content/drive/MyDrive/CNN/dataset/training_set',\n",
        "    target_size=(64,64),\n",
        "    batch_size=32,\n",
        "    class_mode='binary')"
      ],
      "metadata": {
        "id": "uPd2FUPCK9fI",
        "colab": {
          "base_uri": "https://localhost:8080/"
        },
        "outputId": "207d6e7d-074c-449c-9a2f-b8f3ec920bb9"
      },
      "execution_count": 5,
      "outputs": [
        {
          "output_type": "stream",
          "name": "stdout",
          "text": [
            "Found 8010 images belonging to 2 classes.\n"
          ]
        }
      ]
    },
    {
      "cell_type": "markdown",
      "metadata": {
        "id": "mrCMmGw9pHys"
      },
      "source": [
        "### Preprocessing the Test set"
      ]
    },
    {
      "cell_type": "code",
      "source": [
        "test_datagen=ImageDataGenerator(rescale=1./255)\n",
        "test_set=test_datagen.flow_from_directory(\n",
        "    '/content/drive/MyDrive/CNN/dataset/test_set',\n",
        "    target_size=(64,64),\n",
        "    batch_size=32,\n",
        "    class_mode='binary')"
      ],
      "metadata": {
        "id": "J0UyabMyVzVf",
        "colab": {
          "base_uri": "https://localhost:8080/"
        },
        "outputId": "ac67aa65-cef8-40c3-912e-6c16a5131323"
      },
      "execution_count": 6,
      "outputs": [
        {
          "output_type": "stream",
          "name": "stdout",
          "text": [
            "Found 2000 images belonging to 2 classes.\n"
          ]
        }
      ]
    },
    {
      "cell_type": "markdown",
      "metadata": {
        "id": "af8O4l90gk7B"
      },
      "source": [
        "## Part 2 - Building the CNN"
      ]
    },
    {
      "cell_type": "markdown",
      "metadata": {
        "id": "ces1gXY2lmoX"
      },
      "source": [
        "### Initialising the CNN"
      ]
    },
    {
      "cell_type": "code",
      "source": [
        "cnn=tf.keras.models.Sequential()"
      ],
      "metadata": {
        "id": "MaUOv1jwZAbf"
      },
      "execution_count": 7,
      "outputs": []
    },
    {
      "cell_type": "markdown",
      "metadata": {
        "id": "u5YJj_XMl5LF"
      },
      "source": [
        "### Step 1 - Convolution"
      ]
    },
    {
      "cell_type": "code",
      "source": [
        "cnn.add(tf.keras.layers.Conv2D(filters=32,kernel_size=3,activation='relu',input_shape=(64,64,3)))  # Here, 3 is for RGB Image."
      ],
      "metadata": {
        "id": "9pDWnKcRZQbW"
      },
      "execution_count": 8,
      "outputs": []
    },
    {
      "cell_type": "markdown",
      "metadata": {
        "id": "tf87FpvxmNOJ"
      },
      "source": [
        "### Step 2 - Pooling"
      ]
    },
    {
      "cell_type": "code",
      "source": [
        "cnn.add(tf.keras.layers.MaxPool2D(pool_size=2,strides=2))"
      ],
      "metadata": {
        "id": "FhxkcktjZyWu"
      },
      "execution_count": 9,
      "outputs": []
    },
    {
      "cell_type": "markdown",
      "metadata": {
        "id": "xaTOgD8rm4mU"
      },
      "source": [
        "### Adding a second convolutional layer"
      ]
    },
    {
      "cell_type": "code",
      "source": [
        "cnn.add(tf.keras.layers.Conv2D(filters=32,kernel_size=3,activation='relu'))\n",
        "cnn.add(tf.keras.layers.MaxPool2D(pool_size=2,strides=2))"
      ],
      "metadata": {
        "id": "7L4_Y-aJbwMa"
      },
      "execution_count": 10,
      "outputs": []
    },
    {
      "cell_type": "markdown",
      "metadata": {
        "id": "tmiEuvTunKfk"
      },
      "source": [
        "### Step 3 - Flattening"
      ]
    },
    {
      "cell_type": "code",
      "source": [
        "cnn.add(tf.keras.layers.Flatten())"
      ],
      "metadata": {
        "id": "mgivTxZ1cKlp"
      },
      "execution_count": 11,
      "outputs": []
    },
    {
      "cell_type": "markdown",
      "metadata": {
        "id": "dAoSECOm203v"
      },
      "source": [
        "### Step 4 - Full Connection"
      ]
    },
    {
      "cell_type": "code",
      "source": [
        "cnn.add(tf.keras.layers.Dense(units=128,activation='relu'))"
      ],
      "metadata": {
        "id": "NtJ0cov8coX6"
      },
      "execution_count": 12,
      "outputs": []
    },
    {
      "cell_type": "markdown",
      "metadata": {
        "id": "yTldFvbX28Na"
      },
      "source": [
        "### Step 5 - Output Layer"
      ]
    },
    {
      "cell_type": "code",
      "source": [
        "cnn.add(tf.keras.layers.Dense(units=1,activation='sigmoid'))"
      ],
      "metadata": {
        "id": "qo4ys6zLdQWI"
      },
      "execution_count": 13,
      "outputs": []
    },
    {
      "cell_type": "markdown",
      "metadata": {
        "id": "D6XkI90snSDl"
      },
      "source": [
        "## Part 3 - Training the CNN"
      ]
    },
    {
      "cell_type": "markdown",
      "metadata": {
        "id": "vfrFQACEnc6i"
      },
      "source": [
        "### Compiling the CNN"
      ]
    },
    {
      "cell_type": "code",
      "source": [
        "cnn.compile(optimizer='adam',loss='binary_crossentropy',metrics=['accuracy'])"
      ],
      "metadata": {
        "id": "Tv4sKVeaeWW-"
      },
      "execution_count": 14,
      "outputs": []
    },
    {
      "cell_type": "markdown",
      "metadata": {
        "id": "ehS-v3MIpX2h"
      },
      "source": [
        "### Training the CNN on the Training set and evaluating it on the Test set"
      ]
    },
    {
      "cell_type": "code",
      "source": [
        "cnn.fit(x=training_set, validation_data=test_set,epochs=25)"
      ],
      "metadata": {
        "id": "JxtQJFMJeoFP",
        "colab": {
          "base_uri": "https://localhost:8080/"
        },
        "outputId": "ebc822a9-d06f-4dd8-cc1d-27d3c1659694"
      },
      "execution_count": 15,
      "outputs": [
        {
          "output_type": "stream",
          "name": "stdout",
          "text": [
            "Epoch 1/25\n",
            "251/251 [==============================] - 1968s 8s/step - loss: 0.6463 - accuracy: 0.6122 - val_loss: 0.5808 - val_accuracy: 0.7035\n",
            "Epoch 2/25\n",
            "251/251 [==============================] - 96s 383ms/step - loss: 0.5804 - accuracy: 0.6906 - val_loss: 0.5536 - val_accuracy: 0.7145\n",
            "Epoch 3/25\n",
            "251/251 [==============================] - 97s 386ms/step - loss: 0.5385 - accuracy: 0.7260 - val_loss: 0.5170 - val_accuracy: 0.7475\n",
            "Epoch 4/25\n",
            "251/251 [==============================] - 99s 396ms/step - loss: 0.5036 - accuracy: 0.7503 - val_loss: 0.4935 - val_accuracy: 0.7605\n",
            "Epoch 5/25\n",
            "251/251 [==============================] - 101s 402ms/step - loss: 0.4900 - accuracy: 0.7640 - val_loss: 0.4988 - val_accuracy: 0.7585\n",
            "Epoch 6/25\n",
            "251/251 [==============================] - 103s 409ms/step - loss: 0.4793 - accuracy: 0.7680 - val_loss: 0.4765 - val_accuracy: 0.7680\n",
            "Epoch 7/25\n",
            "251/251 [==============================] - 109s 436ms/step - loss: 0.4594 - accuracy: 0.7798 - val_loss: 0.4969 - val_accuracy: 0.7755\n",
            "Epoch 8/25\n",
            "251/251 [==============================] - 109s 433ms/step - loss: 0.4396 - accuracy: 0.7909 - val_loss: 0.4632 - val_accuracy: 0.7900\n",
            "Epoch 9/25\n",
            "251/251 [==============================] - 99s 396ms/step - loss: 0.4259 - accuracy: 0.8000 - val_loss: 0.4617 - val_accuracy: 0.7840\n",
            "Epoch 10/25\n",
            "251/251 [==============================] - 109s 433ms/step - loss: 0.4226 - accuracy: 0.8062 - val_loss: 0.4486 - val_accuracy: 0.8005\n",
            "Epoch 11/25\n",
            "251/251 [==============================] - 101s 403ms/step - loss: 0.4019 - accuracy: 0.8121 - val_loss: 0.5395 - val_accuracy: 0.7600\n",
            "Epoch 12/25\n",
            "251/251 [==============================] - 99s 394ms/step - loss: 0.3907 - accuracy: 0.8189 - val_loss: 0.4926 - val_accuracy: 0.7745\n",
            "Epoch 13/25\n",
            "251/251 [==============================] - 100s 396ms/step - loss: 0.3871 - accuracy: 0.8199 - val_loss: 0.4474 - val_accuracy: 0.8050\n",
            "Epoch 14/25\n",
            "251/251 [==============================] - 98s 391ms/step - loss: 0.3688 - accuracy: 0.8363 - val_loss: 0.4568 - val_accuracy: 0.8035\n",
            "Epoch 15/25\n",
            "251/251 [==============================] - 98s 392ms/step - loss: 0.3596 - accuracy: 0.8388 - val_loss: 0.4553 - val_accuracy: 0.8050\n",
            "Epoch 16/25\n",
            "251/251 [==============================] - 107s 425ms/step - loss: 0.3535 - accuracy: 0.8423 - val_loss: 0.4599 - val_accuracy: 0.7970\n",
            "Epoch 17/25\n",
            "251/251 [==============================] - 106s 422ms/step - loss: 0.3321 - accuracy: 0.8506 - val_loss: 0.5424 - val_accuracy: 0.7750\n",
            "Epoch 18/25\n",
            "251/251 [==============================] - 106s 424ms/step - loss: 0.3295 - accuracy: 0.8578 - val_loss: 0.4597 - val_accuracy: 0.8010\n",
            "Epoch 19/25\n",
            "251/251 [==============================] - 96s 381ms/step - loss: 0.3109 - accuracy: 0.8602 - val_loss: 0.4545 - val_accuracy: 0.8130\n",
            "Epoch 20/25\n",
            "251/251 [==============================] - 106s 424ms/step - loss: 0.3057 - accuracy: 0.8735 - val_loss: 0.5035 - val_accuracy: 0.7905\n",
            "Epoch 21/25\n",
            "251/251 [==============================] - 107s 427ms/step - loss: 0.2858 - accuracy: 0.8788 - val_loss: 0.4603 - val_accuracy: 0.8130\n",
            "Epoch 22/25\n",
            "251/251 [==============================] - 102s 407ms/step - loss: 0.2805 - accuracy: 0.8794 - val_loss: 0.4908 - val_accuracy: 0.8040\n",
            "Epoch 23/25\n",
            "251/251 [==============================] - 97s 385ms/step - loss: 0.2738 - accuracy: 0.8850 - val_loss: 0.5326 - val_accuracy: 0.7905\n",
            "Epoch 24/25\n",
            "251/251 [==============================] - 108s 429ms/step - loss: 0.2652 - accuracy: 0.8928 - val_loss: 0.5585 - val_accuracy: 0.7805\n",
            "Epoch 25/25\n",
            "251/251 [==============================] - 110s 437ms/step - loss: 0.2459 - accuracy: 0.8961 - val_loss: 0.5080 - val_accuracy: 0.8135\n"
          ]
        },
        {
          "output_type": "execute_result",
          "data": {
            "text/plain": [
              "<keras.src.callbacks.History at 0x7e296f56d660>"
            ]
          },
          "metadata": {},
          "execution_count": 15
        }
      ]
    },
    {
      "cell_type": "markdown",
      "metadata": {
        "id": "U3PZasO0006Z"
      },
      "source": [
        "## Part 4 - Making a single prediction"
      ]
    },
    {
      "cell_type": "code",
      "source": [
        "import numpy as np\n",
        "from keras.preprocessing import image\n",
        "test_image=image.load_img('/content/drive/MyDrive/single_prediction/cat_or_dog_2.jpg',target_size=(64,64))\n",
        "test_image=image.img_to_array(test_image)\n",
        "test_image=np.expand_dims(test_image,axis=0)\n",
        "result=cnn.predict(test_image)\n",
        "class_indices = {'cat': 0, 'dog': 1}\n",
        "if result[0][0]==1:\n",
        "  prediction='dog'\n",
        "else:\n",
        "  prediction='cat'\n",
        "\n",
        "print('predicion = ',prediction)"
      ],
      "metadata": {
        "id": "G54hT5H1g94Q",
        "colab": {
          "base_uri": "https://localhost:8080/"
        },
        "outputId": "46e0f9c6-2f66-484a-ae02-48234a0387a3"
      },
      "execution_count": 18,
      "outputs": [
        {
          "output_type": "stream",
          "name": "stdout",
          "text": [
            "1/1 [==============================] - 0s 22ms/step\n",
            "predicion =  cat\n"
          ]
        }
      ]
    }
  ]
}